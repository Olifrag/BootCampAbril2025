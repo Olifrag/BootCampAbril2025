{
 "cells": [
  {
   "cell_type": "code",
   "execution_count": 5,
   "id": "38eb3aca",
   "metadata": {},
   "outputs": [
    {
     "name": "stdout",
     "output_type": "stream",
     "text": [
      "Olivier\n",
      "Fragnaud\n"
     ]
    }
   ],
   "source": [
    "nombre = \"Olivier\"\n",
    "apellido = \"Fragnaud\"\n",
    "print(nombre)\n",
    "print(apellido)"
   ]
  },
  {
   "cell_type": "code",
   "execution_count": 2,
   "id": "b34058fa",
   "metadata": {},
   "outputs": [
    {
     "name": "stdout",
     "output_type": "stream",
     "text": [
      "Hola mundo\n"
     ]
    }
   ],
   "source": [
    "print(\"Hola mundo\")"
   ]
  },
  {
   "cell_type": "code",
   "execution_count": 10,
   "id": "fa599b97",
   "metadata": {},
   "outputs": [
    {
     "name": "stdout",
     "output_type": "stream",
     "text": [
      "manzana\n",
      "5\n",
      "naranja\n"
     ]
    }
   ],
   "source": [
    "frutas = \"manzana\"\n",
    "print (frutas)\n",
    "cantidad_de_frutas = 5\n",
    "print (cantidad_de_frutas)\n",
    "frutas = \"naranja\"\n",
    "print (frutas)  "
   ]
  },
  {
   "cell_type": "code",
   "execution_count": 14,
   "id": "324c12b0",
   "metadata": {},
   "outputs": [
    {
     "name": "stdout",
     "output_type": "stream",
     "text": [
      "('naranja', 'pera')\n",
      "('naranja', 'pera')\n"
     ]
    }
   ],
   "source": [
    "print(frutas)\n",
    "frutas = \"naranja\", \"pera\"\n",
    "print(frutas)\n"
   ]
  },
  {
   "cell_type": "code",
   "execution_count": null,
   "id": "60e214a9",
   "metadata": {},
   "outputs": [],
   "source": [
    "numero = 1 \n",
    "numero_decimal = 1.2 \n",
    "nombre = \"Olivier\"\n",
    "cajon_abierto = False"
   ]
  },
  {
   "cell_type": "code",
   "execution_count": 25,
   "id": "f2e8e68a",
   "metadata": {},
   "outputs": [
    {
     "name": "stdout",
     "output_type": "stream",
     "text": [
      "35000\n",
      "30000\n",
      "76000\n"
     ]
    }
   ],
   "source": [
    "# Suma para la coquita \n",
    "precio_total = 15000 + 20000\n",
    "print (precio_total)\n",
    "precio_descuento = precio_total - 5000\n",
    "print (precio_descuento)\n",
    "precio_gaseosa = 19000\n",
    "cantidad_gaseosa = 4\n",
    "costo_final = precio_gaseosa * cantidad_gaseosa\n",
    "print (costo_final)\n"
   ]
  },
  {
   "cell_type": "code",
   "execution_count": null,
   "id": "d1bc54c7",
   "metadata": {},
   "outputs": [
    {
     "name": "stdout",
     "output_type": "stream",
     "text": [
      "Cantidad de Frutas 20\n"
     ]
    }
   ],
   "source": [
    "#suma de las frutas \n",
    "cantidad_de_manzanas = 5\n",
    "cantidad_de_naranjas = 15\n",
    "cantidad_de_frutas = cantidad_de_manzanas + cantidad_de_naranjas\n",
    "print (\"Cantidad de Frutas es\", cantidad_de_frutas)"
   ]
  },
  {
   "cell_type": "code",
   "execution_count": 41,
   "id": "74658092",
   "metadata": {},
   "outputs": [
    {
     "name": "stdout",
     "output_type": "stream",
     "text": [
      "Frutas restantes es 16\n"
     ]
    }
   ],
   "source": [
    "#resta de las frutas \n",
    "frutas_vendidas = 4\n",
    "frutas_restantes = cantidad_de_frutas - frutas_vendidas\n",
    "print (\"Frutas restantes es\", frutas_restantes)\n"
   ]
  },
  {
   "cell_type": "code",
   "execution_count": 56,
   "id": "c04549f1",
   "metadata": {},
   "outputs": [
    {
     "name": "stdout",
     "output_type": "stream",
     "text": [
      "Olivier Fragnaud\n",
      "Hola, mi nombre es Olivier Fragnaud\n"
     ]
    }
   ],
   "source": [
    "# Concatenar \n",
    "nombre +\"Olivier\"\n",
    "apellido = \"Fragnaud\"\n",
    "nombre_completo = nombre + ' ' + apellido\n",
    "print(nombre_completo)\n",
    "print (\"Hola, mi nombre es\" + ' ' + nombre_completo)"
   ]
  },
  {
   "cell_type": "code",
   "execution_count": 61,
   "id": "ad8cc67c",
   "metadata": {},
   "outputs": [
    {
     "name": "stdout",
     "output_type": "stream",
     "text": [
      "Pablo Martinez\n",
      "Hola, mi nombre es Pablo Martinez mucho gusto\n"
     ]
    }
   ],
   "source": [
    "# Concatenar \n",
    "nombre = \"Pablo\"\n",
    "apellido = \"Martinez\"\n",
    "nombre_completo = nombre + ' ' + apellido\n",
    "print(nombre_completo)\n",
    "print (\"Hola, mi nombre es\" + ' ' + nombre_completo + \" \" + \"mucho gusto\")"
   ]
  },
  {
   "cell_type": "code",
   "execution_count": 63,
   "id": "65e8dd90",
   "metadata": {},
   "outputs": [
    {
     "name": "stdout",
     "output_type": "stream",
     "text": [
      "Oli\n"
     ]
    }
   ],
   "source": [
    "#imput \n",
    "nombre = input(\"CUal es tu nombre?\")\n",
    "print (nombre)\n"
   ]
  },
  {
   "cell_type": "code",
   "execution_count": 81,
   "id": "d01444fa",
   "metadata": {},
   "outputs": [
    {
     "name": "stdout",
     "output_type": "stream",
     "text": [
      "10\n"
     ]
    }
   ],
   "source": [
    "#input numero \n",
    "numero1 = int(input (\"Primer numero\"))\n",
    "numero2 = int(input (\"Segundo numero\"))\n",
    "print(numero1 + numero2)"
   ]
  },
  {
   "cell_type": "code",
   "execution_count": null,
   "id": "90ec1955",
   "metadata": {},
   "outputs": [
    {
     "name": "stdout",
     "output_type": "stream",
     "text": [
      "abrir el pan\n",
      "Agregar queso\n",
      "Agregar jamon\n",
      "Comer\n"
     ]
    }
   ],
   "source": [
    "#funciones\n",
    "def preparar_chanwi():\n",
    "    print (\"abrir el pan\")\n",
    "    print (\"Agregar queso\")\n",
    "    print (\"Agregar jamon\")\n",
    "    print (\"Comer\")\n",
    "preparar_chanwi()"
   ]
  },
  {
   "cell_type": "code",
   "execution_count": 88,
   "id": "61410fff",
   "metadata": {},
   "outputs": [
    {
     "name": "stdout",
     "output_type": "stream",
     "text": [
      "Despertarse\n",
      "Bañarse\n",
      "Cambiarse\n",
      "Lavarse los dientes\n",
      "Buscar las llaves\n",
      "Salir\n",
      "Despertarse\n",
      "Bañarse\n",
      "Cambiarse\n",
      "Lavarse los dientes\n",
      "Buscar las llaves\n",
      "Salir\n",
      "Despertarse\n",
      "Bañarse\n",
      "Cambiarse\n",
      "Lavarse los dientes\n",
      "Buscar las llaves\n",
      "Salir\n"
     ]
    }
   ],
   "source": [
    "#challenge funciones \n",
    "def Salir_de_casa():\n",
    "    print (\"Despertarse\")\n",
    "    print (\"Bañarse\")\n",
    "    print (\"Cambiarse\")\n",
    "    print (\"Lavarse los dientes\")\n",
    "    print (\"Buscar las llaves\")\n",
    "    print (\"Salir\")\n",
    "Salir_de_casa()\n",
    "Salir_de_casa()\n",
    "Salir_de_casa()"
   ]
  },
  {
   "cell_type": "code",
   "execution_count": 91,
   "id": "121903ec",
   "metadata": {},
   "outputs": [
    {
     "name": "stdout",
     "output_type": "stream",
     "text": [
      "abrir el pan\n",
      "agregar huevo\n",
      "Comer\n",
      "abrir el pan\n",
      "agregar tomate\n",
      "Comer\n",
      "abrir el pan\n",
      "agregar JQ\n",
      "Comer\n"
     ]
    }
   ],
   "source": [
    "#funciones\n",
    "def preparar_chanwi(ingredientes):\n",
    "    print (\"abrir el pan\")\n",
    "    print (\"agregar\" + \" \" + ingredientes)\n",
    "    print (\"Comer\")\n",
    "preparar_chanwi(\"huevo\")\n",
    "preparar_chanwi(\"tomate\")\n",
    "preparar_chanwi (\"JQ\")\n"
   ]
  },
  {
   "cell_type": "code",
   "execution_count": 97,
   "id": "d1baf865",
   "metadata": {},
   "outputs": [
    {
     "name": "stdout",
     "output_type": "stream",
     "text": [
      "Ryzen, monitor, teclado, gpu\n"
     ]
    }
   ],
   "source": [
    "def caracteristicas_elemt(componentes):\n",
    "    print (componentes)\n",
    "caracteristicas_elemt(\"Ryzen, monitor, teclado, gpu\")"
   ]
  },
  {
   "cell_type": "code",
   "execution_count": null,
   "id": "9a9fa898",
   "metadata": {},
   "outputs": [],
   "source": []
  }
 ],
 "metadata": {
  "kernelspec": {
   "display_name": ".venv",
   "language": "python",
   "name": "python3"
  },
  "language_info": {
   "codemirror_mode": {
    "name": "ipython",
    "version": 3
   },
   "file_extension": ".py",
   "mimetype": "text/x-python",
   "name": "python",
   "nbconvert_exporter": "python",
   "pygments_lexer": "ipython3",
   "version": "3.12.3"
  }
 },
 "nbformat": 4,
 "nbformat_minor": 5
}

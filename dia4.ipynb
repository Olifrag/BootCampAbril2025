{
 "cells": [
  {
   "cell_type": "code",
   "execution_count": 4,
   "id": "eacd7b09",
   "metadata": {},
   "outputs": [
    {
     "name": "stdout",
     "output_type": "stream",
     "text": [
      "{'Nombre': 'Laura', 'apellido': 'Gomez', 'Celular': 994240998, 'edad': 25}\n"
     ]
    }
   ],
   "source": [
    "#Ejemplo de diccionario\n",
    "#La palabras claves se ponen entre \"\" y despues : para ponerle el valor de la clave, ej {\"nombre\" : \"Olivier\",}\n",
    "mi_contacto = {\"Nombre\": \"Laura\",\n",
    "                \"apellido\": \"Gomez\",\n",
    "                  \"Celular\" : 994240998,\n",
    "                    \"edad\": 25}\n",
    "print(mi_contacto)"
   ]
  },
  {
   "cell_type": "code",
   "execution_count": 45,
   "id": "805a82cc",
   "metadata": {},
   "outputs": [
    {
     "name": "stdout",
     "output_type": "stream",
     "text": [
      "{'Nombre': 'Laura', 'apellido': 'Gomez', 'Celular': 34567890}\n",
      "{'Nombre': 'Laura', 'apellido': 'Gomez', 'Celular': 34567890, 'direccion': 'Sacramento - Edificio dot'}\n",
      "{'Nombre': 'Laura', 'apellido': 'Gomez', 'Celular': 34567890, 'direccion': 'Sacramento - Edificio dot'}\n",
      "{'Nombre': 'Laura', 'apellido': 'Gomez', 'Celular': 34567890}\n"
     ]
    },
    {
     "ename": "KeyError",
     "evalue": "'edad'",
     "output_type": "error",
     "traceback": [
      "\u001b[31m---------------------------------------------------------------------------\u001b[39m",
      "\u001b[31mKeyError\u001b[39m                                  Traceback (most recent call last)",
      "\u001b[36mCell\u001b[39m\u001b[36m \u001b[39m\u001b[32mIn[45]\u001b[39m\u001b[32m, line 24\u001b[39m\n\u001b[32m     21\u001b[39m \u001b[38;5;28mprint\u001b[39m(mi_contacto)\n\u001b[32m     23\u001b[39m \u001b[38;5;66;03m#Eliminar dato por su clave\u001b[39;00m\n\u001b[32m---> \u001b[39m\u001b[32m24\u001b[39m \u001b[38;5;28;01mdel\u001b[39;00m \u001b[43mmi_contacto\u001b[49m\u001b[43m[\u001b[49m\u001b[33;43m'\u001b[39;49m\u001b[33;43medad\u001b[39;49m\u001b[33;43m'\u001b[39;49m\u001b[43m]\u001b[49m \n\u001b[32m     25\u001b[39m \u001b[38;5;28mprint\u001b[39m (mi_contacto)\n",
      "\u001b[31mKeyError\u001b[39m: 'edad'"
     ]
    }
   ],
   "source": [
    "#Acceder al dato del diccionario\n",
    "mi_contacto[\"Nombre\"]\n",
    "mi_contacto[\"apellido\"]\n",
    "print(mi_contacto)\n",
    "\n",
    "#Desplegar datos del diccionario\n",
    "#mi_contacto.keys()\n",
    "#mi_contacto.values()\n",
    "#mi_contacto.items()\n",
    "\n",
    "#Actualizar los datos de mi diccionario\n",
    "mi_contacto[\"direccion\"]= \"Sacramento - Edificio dot\"\n",
    "print(mi_contacto)\n",
    "\n",
    "#Modificar los datos\n",
    "mi_contacto[\"Celular\"] = 34567890\n",
    "print(mi_contacto)\n",
    "\n",
    "#Eliminar un dato\n",
    "mi_contacto.popitem()\n",
    "print(mi_contacto)\n",
    "\n",
    "#Eliminar dato por su clave\n",
    "del mi_contacto['edad'] \n",
    "print (mi_contacto)"
   ]
  },
  {
   "cell_type": "code",
   "execution_count": 43,
   "id": "e4ef22c0",
   "metadata": {},
   "outputs": [
    {
     "name": "stdout",
     "output_type": "stream",
     "text": [
      "{'nombre': 'Olivier'}\n",
      "{'apellido': 'Fragnaud'}\n",
      "{'edad': 26}\n"
     ]
    }
   ],
   "source": [
    "#Challenge 1 🤺\n",
    "#Escribir un programa que cree un diccionario vacío y lo vaya llenado con información sobre una persona \n",
    "# (por ejemplo nombre, edad, sexo, teléfono, correo electrónico, etc.)\n",
    "#  que se le pida al usuario. Cada vez que se añada un nuevo dato debe imprimirse el contenido del diccionario.\n",
    "adress = {}\n",
    "adress[\"nombre\"] = \"Olivier\"\n",
    "print (adress)\n",
    "\n",
    "adress = {}\n",
    "adress[\"apellido\"] = \"Fragnaud\"\n",
    "print (adress)\n",
    "\n",
    "adress = {}\n",
    "adress[\"edad\"] = 26\n",
    "print (adress)\n",
    "\n",
    "# name = input (\"Cual es su nombre? \")\n",
    "# surname = input (\"Cual es su apellido? \")\n",
    "# phone = input (\"Cual es su numero de telefono? \")\n",
    "# email = input (\"Cual es su email? \")\n",
    "\n",
    "\n"
   ]
  },
  {
   "cell_type": "code",
   "execution_count": 46,
   "id": "50fac8fc",
   "metadata": {},
   "outputs": [],
   "source": [
    "#Challenge 2 🤺\n",
    "#Crear una tarjeta personal. El usuario (mediante input) puede elegir:\n",
    "#Hacer en if para cada variable y un else para salir del menu\n",
    "datos = {}\n",
    "op1 = (\"Crear datos \")\n",
    "op2 = (\"Modificar datos \")\n",
    "op3 = (\"Eliminar datos \")\n",
    "op4 = (\"Salir \")\n",
    "op5 = ()\n",
    "\n",
    "print\n",
    "if op5==op1:\n",
    "    input = (\"Crear datos\")\n",
    "    \n",
    "\n",
    "#Crear datos nuevos\n",
    "clave = input(\"ingrese una palabra llave\")\n",
    "datos = {clave}\n",
    "#Modificar datos con NOMBRE DE DICCIONARIO []=\n",
    "#datos[]=\n",
    "#Eliminar datos con del datos {}\n",
    "#del datos {}"
   ]
  },
  {
   "cell_type": "code",
   "execution_count": 47,
   "id": "35ad2af2",
   "metadata": {},
   "outputs": [
    {
     "ename": "SyntaxError",
     "evalue": "invalid syntax (3833257312.py, line 9)",
     "output_type": "error",
     "traceback": [
      "  \u001b[36mCell\u001b[39m\u001b[36m \u001b[39m\u001b[32mIn[47]\u001b[39m\u001b[32m, line 9\u001b[39m\n\u001b[31m    \u001b[39m\u001b[31mseleccion = int(input(\"Ingrese una opcion\")):\u001b[39m\n                                                ^\n\u001b[31mSyntaxError\u001b[39m\u001b[31m:\u001b[39m invalid syntax\n"
     ]
    }
   ],
   "source": [
    "#Solucion challenge 2\n",
    "tarjeta_personal = {}\n",
    "#Tengo 3 opciones\n",
    "'''\n",
    "opcion 1 crear\n",
    "opcion 2 modificar\n",
    "opcion 3 borrar\n",
    "'''\n",
    "seleccion = int(input(\"Ingrese una opcion\")):\n",
    "if seleccion == 1:\n",
    "    tarjeta_personal[clave] = valor \n",
    "    "
   ]
  },
  {
   "cell_type": "code",
   "execution_count": 54,
   "id": "1f16d227",
   "metadata": {},
   "outputs": [
    {
     "ename": "SyntaxError",
     "evalue": "':' expected after dictionary key (227609292.py, line 10)",
     "output_type": "error",
     "traceback": [
      "  \u001b[36mCell\u001b[39m\u001b[36m \u001b[39m\u001b[32mIn[54]\u001b[39m\u001b[32m, line 10\u001b[39m\n\u001b[31m    \u001b[39m\u001b[31m\"agenda2\": \"Mati\" \"telefono\", 87654, \"Direccion\": \"apete\",\u001b[39m\n                                      ^\n\u001b[31mSyntaxError\u001b[39m\u001b[31m:\u001b[39m ':' expected after dictionary key\n"
     ]
    }
   ],
   "source": [
    "#Challenge 3 🤺\n",
    "#Crear una agenda de contactos. El usuario puede elegir:\n",
    "#Mostrar los contactos\n",
    "#Crear contacto\n",
    "#Modificar datos del contacto\n",
    "\n",
    "#Crear una agenda de contactos \n",
    "# agenda = {agenda ={}}\n",
    "agenda = {\"agenda1\": \"Gonzalo\", \"telefono\": 4567890, \"Direccion\": \"Aca a la vuelta\",\n",
    "          \"agenda2\": \"Mati\" \"telefono\", 87654, \"Direccion\": \"apete\",\n",
    "          \"agenda3\": \"Olivier\", \"telefono\" 468765, \"Direccion\": \"Mi casa\"}\n",
    "print(agenda)"
   ]
  },
  {
   "cell_type": "code",
   "execution_count": null,
   "id": "8bf64e61",
   "metadata": {},
   "outputs": [
    {
     "ename": "AttributeError",
     "evalue": "type object 'Perro' has no attribute 'color'",
     "output_type": "error",
     "traceback": [
      "\u001b[31m---------------------------------------------------------------------------\u001b[39m",
      "\u001b[31mAttributeError\u001b[39m                            Traceback (most recent call last)",
      "\u001b[36mCell\u001b[39m\u001b[36m \u001b[39m\u001b[32mIn[19]\u001b[39m\u001b[32m, line 14\u001b[39m\n\u001b[32m     11\u001b[39m         \u001b[38;5;28;01mpass\u001b[39;00m\n\u001b[32m     13\u001b[39m firu = Perro(\u001b[33m\"\u001b[39m\u001b[33mblanco\u001b[39m\u001b[33m\"\u001b[39m,\u001b[33m\"\u001b[39m\u001b[33mshitzhu\u001b[39m\u001b[33m\"\u001b[39m)\n\u001b[32m---> \u001b[39m\u001b[32m14\u001b[39m \u001b[38;5;28mprint\u001b[39m (\u001b[43mPerro\u001b[49m\u001b[43m.\u001b[49m\u001b[43mcolor\u001b[49m)\n",
      "\u001b[31mAttributeError\u001b[39m: type object 'Perro' has no attribute 'color'"
     ]
    }
   ],
   "source": [
    "class Perro:\n",
    "    # Atributos de clase, son las caracteristicas en comun del perro\n",
    "    ojos = 2\n",
    "    patas = 4\n",
    "    # Atributos de instancia, lo que le diferencia de los demas \n",
    "    def __init__(self, color, raza):\n",
    "        self.color=color\n",
    "        self.raza=raza\n",
    "    #Metodos, lo que puede hacer el PERRO\n",
    "    def saltar(self):\n",
    "        pass\n",
    "\n",
    "firu = Perro(blanco)\n",
    "print (Perro.color)"
   ]
  },
  {
   "cell_type": "code",
   "execution_count": 1,
   "id": "78c23d2a",
   "metadata": {},
   "outputs": [],
   "source": [
    "#Challenge 🤺\n",
    "#Crear dos métodos para nuestro animal y ejecutar, debe ser algo específico de ese animal.\n",
    "#Ejemplo: \"Cuando hablo, digo X\".\n",
    "#Ejemplo: \"Cuando me muevo, hago X\".\n",
    "\n",
    "class Perro:\n",
    "    ojos =1\n",
    "    patas =4\n",
    "    def __init__(self, color, raza):\n",
    "        self.color=color\n",
    "    \n",
    "        self.raza=raza\n",
    "sushi = Perro\n",
    "\n",
    "\n"
   ]
  },
  {
   "cell_type": "code",
   "execution_count": 2,
   "id": "fd7311f5",
   "metadata": {},
   "outputs": [
    {
     "name": "stdout",
     "output_type": "stream",
     "text": [
      "Holaa(en miau)\n"
     ]
    }
   ],
   "source": [
    "class Gato():\n",
    "    orejas =2 \n",
    "    patas=4\n",
    "    tipo = \"felino\"\n",
    "    def __init__(self, color, tamanho):\n",
    "        self.color = color\n",
    "        self.tamanho = tamanho\n",
    "\n",
    "    def maulla(self):\n",
    "        return ('Holaa(en miau)')\n",
    "    \n",
    "    def sonido(self):\n",
    "        return('Ronronea fuerte')\n",
    "    \n",
    "    def salta(self):\n",
    "        return ('Saltaa alto')\n",
    "    \n",
    "eldestructordesofas = Gato('blanco', 'grande')\n",
    "\n",
    "print(f'{eldestructordesofas.maulla()}')"
   ]
  },
  {
   "cell_type": "code",
   "execution_count": 6,
   "id": "60ac0ece",
   "metadata": {},
   "outputs": [
    {
     "data": {
      "text/plain": [
       "'Juega con la pelota'"
      ]
     },
     "execution_count": 6,
     "metadata": {},
     "output_type": "execute_result"
    }
   ],
   "source": [
    "class Gatito(Gato):\n",
    "    cola = 1\n",
    "\n",
    "    def jugar (self):\n",
    "        return (\"Juega con la pelota\")\n",
    "\n",
    "michi= Gatito(\"gris\", \"pequeño\")\n",
    "michi.maulla()\n",
    "michi.jugar()"
   ]
  },
  {
   "cell_type": "code",
   "execution_count": 8,
   "id": "bf1f8c05",
   "metadata": {},
   "outputs": [
    {
     "ename": "NameError",
     "evalue": "name 'negro' is not defined",
     "output_type": "error",
     "traceback": [
      "\u001b[31m---------------------------------------------------------------------------\u001b[39m",
      "\u001b[31mNameError\u001b[39m                                 Traceback (most recent call last)",
      "\u001b[36mCell\u001b[39m\u001b[36m \u001b[39m\u001b[32mIn[8]\u001b[39m\u001b[32m, line 10\u001b[39m\n\u001b[32m      7\u001b[39m     \u001b[38;5;28;01mdef\u001b[39;00m\u001b[38;5;250m \u001b[39m\u001b[34mladrar\u001b[39m (\u001b[38;5;28mself\u001b[39m):\n\u001b[32m      8\u001b[39m         \u001b[38;5;28;01mreturn\u001b[39;00m (\u001b[33m\"\u001b[39m\u001b[33mPesadear\u001b[39m\u001b[33m\"\u001b[39m)\n\u001b[32m---> \u001b[39m\u001b[32m10\u001b[39m moet = Perrito(\u001b[43mnegro\u001b[49m, scotish)\n\u001b[32m     11\u001b[39m moet.ladrar()\n",
      "\u001b[31mNameError\u001b[39m: name 'negro' is not defined"
     ]
    }
   ],
   "source": [
    "#Challenge 🤺\n",
    "#Definir una clase madre que herede a sus clases hijas dos atributos de instancia. Mostrar ambos atributos en pantalla desde los objetos de las clases hijas.\n",
    "#Observación: Editar las clases hijas para que no se inicialicen.\n",
    "class Perrito (Perro):\n",
    "    ojos = 2\n",
    "\n",
    "    def ladrar (self):\n",
    "        return (\"Pesadear\")\n",
    "    \n",
    "moet = Perrito(negro, scotish)\n",
    "moet.ladrar()\n",
    "\n",
    "    "
   ]
  },
  {
   "cell_type": "code",
   "execution_count": null,
   "id": "69618c7e",
   "metadata": {},
   "outputs": [],
   "source": []
  }
 ],
 "metadata": {
  "kernelspec": {
   "display_name": ".venv",
   "language": "python",
   "name": "python3"
  },
  "language_info": {
   "codemirror_mode": {
    "name": "ipython",
    "version": 3
   },
   "file_extension": ".py",
   "mimetype": "text/x-python",
   "name": "python",
   "nbconvert_exporter": "python",
   "pygments_lexer": "ipython3",
   "version": "3.12.3"
  }
 },
 "nbformat": 4,
 "nbformat_minor": 5
}

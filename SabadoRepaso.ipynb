{
 "cells": [
  {
   "cell_type": "markdown",
   "id": "2a3c0518",
   "metadata": {},
   "source": [
    "#Las funciones son lineas de codigos echas para volver a reutilizar sin tener que hacer todo desde 0\n",
    "#Se utiliza con def y (Nombre de la funcion)\n",
    "def (\"Nombre de la funcion\") (ParametrosDATOS QUE VA A GUARDAR LA FUNCION):"
   ]
  },
  {
   "cell_type": "code",
   "execution_count": null,
   "id": "8b8d95d7",
   "metadata": {},
   "outputs": [],
   "source": [
    "#EJEMPLO FUNCIONES CON PARAMETROS \n",
    "def (\"Precio de autos\") (marcas, precio, modelo):\n",
    "    print ()\n"
   ]
  },
  {
   "cell_type": "code",
   "execution_count": null,
   "id": "09d7817b",
   "metadata": {},
   "outputs": [
    {
     "name": "stdout",
     "output_type": "stream",
     "text": [
      "3\n",
      "6\n"
     ]
    }
   ],
   "source": [
    "#Return\n",
    "# Hacer una funcion que nos retorne un resultado Luego miltiplicar el resltado por dos \n",
    "def suma(num1,num2):\n",
    "    '''Funcion de suma'''\n",
    "    resultado_de_suma=num1 + num2\n",
    "    return(resultado_de_suma)\n",
    "    #print(\"hola\") NO SE PUEDE ESCRIBIR CODIGO DESPUES DE RETURN\n",
    "\n",
    "resultado_de_mi_suma = suma(1,2)\n",
    "print(resultado_de_mi_suma)\n",
    "\n",
    "multiplicacion = resultado_de_mi_suma * 2\n",
    "print(multiplicacion)"
   ]
  },
  {
   "cell_type": "code",
   "execution_count": null,
   "id": "dc63826a",
   "metadata": {},
   "outputs": [
    {
     "name": "stdout",
     "output_type": "stream",
     "text": [
      "True\n",
      "El numero 1 es mayor que el numero 2 \n"
     ]
    }
   ],
   "source": [
    "# Condicionales Son para decidir si pase esto u otros dependiendo de si se cumple o no las condiciones puestas \n",
    "# Funcionan con bol que son True o False\n",
    "numero1 = 30\n",
    "numero2 = 15\n",
    "\n",
    "mayor_que=numero1>numero2\n",
    "print(mayor_que)\n",
    "if mayor_que:\n",
    "    print(\"El numero 1 es mayor que el numero 2 \")\n",
    "else:\n",
    "    print(\"Numero 1 no es mayor \")"
   ]
  },
  {
   "cell_type": "code",
   "execution_count": 9,
   "id": "5cedb91d",
   "metadata": {},
   "outputs": [
    {
     "name": "stdout",
     "output_type": "stream",
     "text": [
      "Tomar pero no comprar \n"
     ]
    }
   ],
   "source": [
    "edad=18\n",
    "#if y else soo pueden haber una ves, if es donde empieza y else es donde termina, elif puede haber cuantas veces se quiera \n",
    "\n",
    "if edad < 18:\n",
    "    print (\"Juguito no mas\")\n",
    "elif edad < 21:\n",
    "    print (\"Tomar pero no comprar \")\n",
    "else:\n",
    "    print (\"Hace lo que quieras \")"
   ]
  },
  {
   "cell_type": "code",
   "execution_count": 14,
   "id": "7fb24da5",
   "metadata": {},
   "outputs": [],
   "source": [
    "#Listas son un conjunto de elementos \n",
    "participantes =[\"Renzo\", \"Olivier\", \"Jimena\", \"Matias\"]\n",
    "#POSICIONES        0        1           2        3\n",
    "#ELEMENTOS         1        2           3        4"
   ]
  },
  {
   "cell_type": "code",
   "execution_count": 11,
   "id": "015cbe96",
   "metadata": {},
   "outputs": [
    {
     "name": "stdout",
     "output_type": "stream",
     "text": [
      "Wrong Password\n",
      "Wrong Password\n",
      "Wrong Password\n",
      "Wrong Password\n",
      "Wrong Password\n",
      "Wrong Password\n",
      "Wrong Password\n",
      "Wrong Password\n",
      "Wrong Password\n",
      "Wrong Password\n",
      "Wrong Password\n",
      "Wrong Password\n",
      "Wrong Password\n",
      "Wrong Password\n",
      "Wrong Password\n"
     ]
    },
    {
     "ename": "KeyboardInterrupt",
     "evalue": "Interrupted by user",
     "output_type": "error",
     "traceback": [
      "\u001b[31m---------------------------------------------------------------------------\u001b[39m",
      "\u001b[31mKeyboardInterrupt\u001b[39m                         Traceback (most recent call last)",
      "\u001b[36mCell\u001b[39m\u001b[36m \u001b[39m\u001b[32mIn[11]\u001b[39m\u001b[32m, line 8\u001b[39m\n\u001b[32m      6\u001b[39m \u001b[38;5;28;01mwhile\u001b[39;00m password_correcta!= password_usser:\n\u001b[32m      7\u001b[39m     \u001b[38;5;28mprint\u001b[39m(\u001b[33m\"\u001b[39m\u001b[33mWrong Password\u001b[39m\u001b[33m\"\u001b[39m)\n\u001b[32m----> \u001b[39m\u001b[32m8\u001b[39m     password_usser=\u001b[38;5;28;43minput\u001b[39;49m\u001b[43m(\u001b[49m\u001b[33;43m\"\u001b[39;49m\u001b[33;43mPassword\u001b[39;49m\u001b[33;43m\"\u001b[39;49m\u001b[43m)\u001b[49m\n\u001b[32m      9\u001b[39m \u001b[38;5;28mprint\u001b[39m (\u001b[33m\"\u001b[39m\u001b[33mPass correcto\u001b[39m\u001b[33m\"\u001b[39m)\n",
      "\u001b[36mFile \u001b[39m\u001b[32m~/Escritorio/bootcamp-2/.venv/lib/python3.12/site-packages/ipykernel/kernelbase.py:1282\u001b[39m, in \u001b[36mKernel.raw_input\u001b[39m\u001b[34m(self, prompt)\u001b[39m\n\u001b[32m   1280\u001b[39m     msg = \u001b[33m\"\u001b[39m\u001b[33mraw_input was called, but this frontend does not support input requests.\u001b[39m\u001b[33m\"\u001b[39m\n\u001b[32m   1281\u001b[39m     \u001b[38;5;28;01mraise\u001b[39;00m StdinNotImplementedError(msg)\n\u001b[32m-> \u001b[39m\u001b[32m1282\u001b[39m \u001b[38;5;28;01mreturn\u001b[39;00m \u001b[38;5;28;43mself\u001b[39;49m\u001b[43m.\u001b[49m\u001b[43m_input_request\u001b[49m\u001b[43m(\u001b[49m\n\u001b[32m   1283\u001b[39m \u001b[43m    \u001b[49m\u001b[38;5;28;43mstr\u001b[39;49m\u001b[43m(\u001b[49m\u001b[43mprompt\u001b[49m\u001b[43m)\u001b[49m\u001b[43m,\u001b[49m\n\u001b[32m   1284\u001b[39m \u001b[43m    \u001b[49m\u001b[38;5;28;43mself\u001b[39;49m\u001b[43m.\u001b[49m\u001b[43m_parent_ident\u001b[49m\u001b[43m[\u001b[49m\u001b[33;43m\"\u001b[39;49m\u001b[33;43mshell\u001b[39;49m\u001b[33;43m\"\u001b[39;49m\u001b[43m]\u001b[49m\u001b[43m,\u001b[49m\n\u001b[32m   1285\u001b[39m \u001b[43m    \u001b[49m\u001b[38;5;28;43mself\u001b[39;49m\u001b[43m.\u001b[49m\u001b[43mget_parent\u001b[49m\u001b[43m(\u001b[49m\u001b[33;43m\"\u001b[39;49m\u001b[33;43mshell\u001b[39;49m\u001b[33;43m\"\u001b[39;49m\u001b[43m)\u001b[49m\u001b[43m,\u001b[49m\n\u001b[32m   1286\u001b[39m \u001b[43m    \u001b[49m\u001b[43mpassword\u001b[49m\u001b[43m=\u001b[49m\u001b[38;5;28;43;01mFalse\u001b[39;49;00m\u001b[43m,\u001b[49m\n\u001b[32m   1287\u001b[39m \u001b[43m\u001b[49m\u001b[43m)\u001b[49m\n",
      "\u001b[36mFile \u001b[39m\u001b[32m~/Escritorio/bootcamp-2/.venv/lib/python3.12/site-packages/ipykernel/kernelbase.py:1325\u001b[39m, in \u001b[36mKernel._input_request\u001b[39m\u001b[34m(self, prompt, ident, parent, password)\u001b[39m\n\u001b[32m   1322\u001b[39m \u001b[38;5;28;01mexcept\u001b[39;00m \u001b[38;5;167;01mKeyboardInterrupt\u001b[39;00m:\n\u001b[32m   1323\u001b[39m     \u001b[38;5;66;03m# re-raise KeyboardInterrupt, to truncate traceback\u001b[39;00m\n\u001b[32m   1324\u001b[39m     msg = \u001b[33m\"\u001b[39m\u001b[33mInterrupted by user\u001b[39m\u001b[33m\"\u001b[39m\n\u001b[32m-> \u001b[39m\u001b[32m1325\u001b[39m     \u001b[38;5;28;01mraise\u001b[39;00m \u001b[38;5;167;01mKeyboardInterrupt\u001b[39;00m(msg) \u001b[38;5;28;01mfrom\u001b[39;00m\u001b[38;5;250m \u001b[39m\u001b[38;5;28;01mNone\u001b[39;00m\n\u001b[32m   1326\u001b[39m \u001b[38;5;28;01mexcept\u001b[39;00m \u001b[38;5;167;01mException\u001b[39;00m:\n\u001b[32m   1327\u001b[39m     \u001b[38;5;28mself\u001b[39m.log.warning(\u001b[33m\"\u001b[39m\u001b[33mInvalid Message:\u001b[39m\u001b[33m\"\u001b[39m, exc_info=\u001b[38;5;28;01mTrue\u001b[39;00m)\n",
      "\u001b[31mKeyboardInterrupt\u001b[39m: Interrupted by user"
     ]
    }
   ],
   "source": [
    "#BUCLES hay dos, conicionales e iterativos \n",
    "# Condicionales, operan por bol \n",
    "password_correcta= 123\n",
    "password_usser = input(\"Password\")\n",
    "\n",
    "while password_correcta!= password_usser:\n",
    "    print(\"Wrong Password\")\n",
    "    password_usser=input(\"Password\")\n",
    "print (\"Pass correcto\")\n"
   ]
  },
  {
   "cell_type": "code",
   "execution_count": 15,
   "id": "01573355",
   "metadata": {},
   "outputs": [
    {
     "name": "stdout",
     "output_type": "stream",
     "text": [
      "Renzo\n",
      "Olivier\n",
      "Jimena\n",
      "Matias\n"
     ]
    }
   ],
   "source": [
    "#Bucles iterativos, funcionan con for\n",
    "for nombre in participantes:\n",
    "    #Nombre es el iterador\n",
    "    print (nombre)"
   ]
  },
  {
   "cell_type": "code",
   "execution_count": null,
   "id": "9f9e19aa",
   "metadata": {},
   "outputs": [],
   "source": [
    "#Wordle\n",
    "#Definir palabra a encontrar, intentos y cantidad de letras\n",
    "palabra_a_encontrar = \"virus\"\n",
    "cantidad_letras=5\n",
    "cantidad_intentos=6\n",
    "\n",
    "#Comparar la palabra a encontrar con la ingresada, posicion, si exite la palabra o si no existe\n",
    "def verificar_palabra_ingresada(palabra_a_encontrar, palabra_ingresada):\n",
    "\n",
    "#Definir una lista y agregar las letras verificadas \n",
    "resultado = []\n",
    "for posicion in range(cantidad_letras):\n",
    "    las_letras_son_iguales= palabra_a_encontrar[posicion]==palabra_a_encontrar[posicion]\n",
    "\n",
    "    la_letra_existe=palabra_ingresada[posision]\n",
    "    #Ya me perdi >:c\n",
    "\n",
    "#Hacer la grilla, una grilla es una lista de listas \n",
    "def imprimir_grilla(grilla):\n",
    "    cantidad_de_filas=len(grilla)\n",
    "    for fila in range(cantidad_de_filas):\n",
    "        print(grilla [fila])\n",
    "\n",
    "#Empezar el juego, mensaje de welcome\n",
    "print (\"Welcome stranger\") \n",
    "#Empear a restar cantidad de intentos\n",
    "while intentos >0:\n",
    "    print (f\"Te quedan {intentos}\")\n",
    "    palabra_ingresada=input(\"Ingrese una palabra\") \n",
    "    intentos = intentos -1\n",
    "    if len(palabra_ingresada) != cantidad_de_letras:\n",
    "        #AAAAAAAAAAAAAAAAAAAAAAAAAAAAAAAAAAAAAAAAAAAAAAAAAAAAAAAAAAAAAAAAAAAAAAAAAAAAAA\n",
    "        \n",
    "#Verificar las palabras \n"
   ]
  }
 ],
 "metadata": {
  "kernelspec": {
   "display_name": ".venv",
   "language": "python",
   "name": "python3"
  },
  "language_info": {
   "codemirror_mode": {
    "name": "ipython",
    "version": 3
   },
   "file_extension": ".py",
   "mimetype": "text/x-python",
   "name": "python",
   "nbconvert_exporter": "python",
   "pygments_lexer": "ipython3",
   "version": "3.12.3"
  }
 },
 "nbformat": 4,
 "nbformat_minor": 5
}

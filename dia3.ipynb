{
 "cells": [
  {
   "cell_type": "code",
   "execution_count": 1,
   "id": "3b48eb5b",
   "metadata": {},
   "outputs": [
    {
     "name": "stdout",
     "output_type": "stream",
     "text": [
      "Hola mundo\n"
     ]
    }
   ],
   "source": [
    "def saludo():\n",
    "    print(\"Hola mundo\")\n",
    "saludo()"
   ]
  },
  {
   "cell_type": "code",
   "execution_count": 8,
   "id": "1fdcac99",
   "metadata": {},
   "outputs": [
    {
     "name": "stdout",
     "output_type": "stream",
     "text": [
      "Hello\n"
     ]
    }
   ],
   "source": [
    "def palabra():\n",
    "    palabra = \"Hello\"\n",
    "    print(palabra)\n",
    "\n",
    "palabra()"
   ]
  },
  {
   "cell_type": "code",
   "execution_count": 9,
   "id": "f0298887",
   "metadata": {},
   "outputs": [],
   "source": [
    "def suma (numero1, numero2):\n",
    "    suma = numero1 + numero2\n",
    "    print(suma)\n",
    "    "
   ]
  },
  {
   "cell_type": "code",
   "execution_count": 39,
   "id": "6706a076",
   "metadata": {},
   "outputs": [
    {
     "name": "stdout",
     "output_type": "stream",
     "text": [
      "La primera letra es a\n",
      "La segunda letra es f\n",
      "Las letras no son iguales\n"
     ]
    }
   ],
   "source": [
    "def letras (a,b):\n",
    "    a = input(\"Escribe la primera letra \")\n",
    "    print(\"La primera letra es \" + a)\n",
    "    b =input (\"Elige la segunda letra \")\n",
    "    print (\"La segunda letra es \" + b)\n",
    "    if a == b:\n",
    "        print (\"Las letras son iguales\")\n",
    "    else:\n",
    "        print (\"Las letras no son iguales\")\n",
    "letras(\"a\",\"b\")"
   ]
  },
  {
   "cell_type": "code",
   "execution_count": 54,
   "id": "e499c0c4",
   "metadata": {},
   "outputs": [],
   "source": [
    "def suma2(numero1,numero2):\n",
    "    sumar = numero1 + numero2\n",
    "    print(suma)\n",
    "    return sumar"
   ]
  },
  {
   "cell_type": "code",
   "execution_count": 55,
   "id": "bbdd73c8",
   "metadata": {},
   "outputs": [
    {
     "name": "stdout",
     "output_type": "stream",
     "text": [
      "5\n"
     ]
    },
    {
     "ename": "NameError",
     "evalue": "name 'sumar' is not defined",
     "output_type": "error",
     "traceback": [
      "\u001b[31m---------------------------------------------------------------------------\u001b[39m",
      "\u001b[31mNameError\u001b[39m                                 Traceback (most recent call last)",
      "\u001b[36mCell\u001b[39m\u001b[36m \u001b[39m\u001b[32mIn[55]\u001b[39m\u001b[32m, line 2\u001b[39m\n\u001b[32m      1\u001b[39m suma1=suma (\u001b[32m1\u001b[39m,\u001b[32m4\u001b[39m)\n\u001b[32m----> \u001b[39m\u001b[32m2\u001b[39m total = suma1 + \u001b[43msumar\u001b[49m\n\u001b[32m      3\u001b[39m \u001b[38;5;28mprint\u001b[39m(total)\n",
      "\u001b[31mNameError\u001b[39m: name 'sumar' is not defined"
     ]
    }
   ],
   "source": [
    "suma1=suma (1,4)\n",
    "total = suma1 + sumar\n",
    "print(total)"
   ]
  },
  {
   "cell_type": "code",
   "execution_count": 69,
   "id": "1be473a2",
   "metadata": {},
   "outputs": [
    {
     "name": "stdout",
     "output_type": "stream",
     "text": [
      "Tu palabra es Hola\n"
     ]
    },
    {
     "ename": "TypeError",
     "evalue": "can only concatenate str (not \"int\") to str",
     "output_type": "error",
     "traceback": [
      "\u001b[31m---------------------------------------------------------------------------\u001b[39m",
      "\u001b[31mTypeError\u001b[39m                                 Traceback (most recent call last)",
      "\u001b[36mCell\u001b[39m\u001b[36m \u001b[39m\u001b[32mIn[69]\u001b[39m\u001b[32m, line 12\u001b[39m\n\u001b[32m     10\u001b[39m         respuesta = \u001b[38;5;28;01mFalse\u001b[39;00m \n\u001b[32m     11\u001b[39m     \u001b[38;5;28;01mreturn\u001b[39;00m respuesta\n\u001b[32m---> \u001b[39m\u001b[32m12\u001b[39m \u001b[43mchallenge3\u001b[49m\u001b[43m(\u001b[49m\u001b[33;43m\"\u001b[39;49m\u001b[33;43mHola\u001b[39;49m\u001b[33;43m\"\u001b[39;49m\u001b[43m,\u001b[49m\u001b[43m \u001b[49m\u001b[32;43m4\u001b[39;49m\u001b[43m)\u001b[49m\n",
      "\u001b[36mCell\u001b[39m\u001b[36m \u001b[39m\u001b[32mIn[69]\u001b[39m\u001b[32m, line 6\u001b[39m, in \u001b[36mchallenge3\u001b[39m\u001b[34m(palabra, numero)\u001b[39m\n\u001b[32m      4\u001b[39m \u001b[38;5;28;01mdef\u001b[39;00m\u001b[38;5;250m \u001b[39m\u001b[34mchallenge3\u001b[39m (palabra,numero):\n\u001b[32m      5\u001b[39m     \u001b[38;5;28mprint\u001b[39m (\u001b[33m\"\u001b[39m\u001b[33mTu palabra es \u001b[39m\u001b[33m\"\u001b[39m + palabra)\n\u001b[32m----> \u001b[39m\u001b[32m6\u001b[39m     \u001b[38;5;28mprint\u001b[39m (\u001b[33;43m\"\u001b[39;49m\u001b[33;43mTu numero es \u001b[39;49m\u001b[33;43m\"\u001b[39;49m\u001b[43m \u001b[49m\u001b[43m+\u001b[49m\u001b[43m \u001b[49m\u001b[38;5;28;43mint\u001b[39;49m\u001b[43m(\u001b[49m\u001b[43m)\u001b[49m)\n\u001b[32m      7\u001b[39m     \u001b[38;5;28;01mif\u001b[39;00m \u001b[38;5;28mlen\u001b[39m(palabra)==numero:\n\u001b[32m      8\u001b[39m         respuesta = \u001b[38;5;28;01mTrue\u001b[39;00m\n",
      "\u001b[31mTypeError\u001b[39m: can only concatenate str (not \"int\") to str"
     ]
    }
   ],
   "source": [
    "# Challenge 3 🤺 - 20m\n",
    "#Crear una función que reciba dos parámetros (una palabra y un número), y que retorne True si el número es igual a la cantidad de letras de la palabra. En caso contrario, que retorne False.\n",
    "#Pista: cantidad de letras de una palabra en python\n",
    "def challenge3 (palabra,numero):\n",
    "    print (\"Tu palabra es \" + palabra)\n",
    "    print (\"Tu numero es \" + int())\n",
    "    if len(palabra)==numero:\n",
    "        respuesta = True\n",
    "    else:\n",
    "        respuesta = False \n",
    "    return respuesta\n",
    "challenge3(\"Hola\", 4)"
   ]
  },
  {
   "cell_type": "code",
   "execution_count": 70,
   "id": "39a868d3",
   "metadata": {},
   "outputs": [
    {
     "name": "stdout",
     "output_type": "stream",
     "text": [
      "Hola\n",
      "Oli\n"
     ]
    }
   ],
   "source": [
    "palabra_a_encontrar = input(\"Ingrese la palabra\")\n",
    "print (palabra_a_encontrar)\n",
    "\n",
    "palabra_ingreada = input (\"Ahora la otra palabra\")\n",
    "print (palabra_ingreada)"
   ]
  },
  {
   "cell_type": "code",
   "execution_count": 72,
   "id": "03bdbfe9",
   "metadata": {},
   "outputs": [
    {
     "name": "stdout",
     "output_type": "stream",
     "text": [
      "['H', 'o', 'l', 'a']\n",
      "['O', 'l', 'i']\n"
     ]
    }
   ],
   "source": [
    "lista_de_palabras_ingresadas = list(palabra_a_encontrar)\n",
    "print (lista_de_palabras_ingresadas)\n",
    "\n",
    "lista_de_palabra_ingresada = list(palabra_ingreada)\n",
    "print(lista_de_palabra_ingresada)"
   ]
  },
  {
   "cell_type": "code",
   "execution_count": null,
   "id": "0d54babe",
   "metadata": {},
   "outputs": [
    {
     "data": {
      "text/plain": [
       "['h', 'o', 'l', 'a', 'c', 'h', 'a', 'u', 'a', 'p', 'e', 'r']"
      ]
     },
     "execution_count": 83,
     "metadata": {},
     "output_type": "execute_result"
    }
   ],
   "source": [
    "#Challenge 5 🤺 - 25m\n",
    "#Pedir al usuario que ingrese 1 palabra, luego convertir esa palabra a una lista con sus caracteres con list(). Agregar esa lista de caracteres a una lista llamada palabras_ingresadas. Repetir el proceso 3 veces. Cada vez que se agregue una lista de caracteres, imprimir la lista palabras_ingresadas.\n",
    "#Ejemplo del resultado esperado:\n",
    "#[['c', 'i', 'e', 'l', 'o']]\n",
    "# # Al ingresar la primera palabra\n",
    "#[['c', 'i', 'e', 'l', 'o'], ['c', 'a', 'l', 'o', 'r']]\n",
    "# # Al ingresar la segunda palabra\n",
    "#[['c', 'i', 'e', 'l', 'o'], ['c', 'a', 'l', 'o', 'r'], ['n', 'u', 'b', 'e', 's']]\n",
    "# Al ingresar la tercera palabra\n",
    "\n",
    "palabra=input(\"Ingrese la primera palabra para la lista \")\n",
    "list(palabra)\n",
    "\n",
    "palabra2 = input(\"Ingrese la segunda palabra para la lista \")\n",
    "list(palabra2)\n",
    "list(palabra + palabra2)\n",
    "\n",
    "palabra3= input(\"Ingrese la tercera palabra para la lista \")\n",
    "list(palabra3)\n",
    "list (palabra + palabra2 + palabra3)\n"
   ]
  },
  {
   "cell_type": "code",
   "execution_count": 85,
   "id": "72d8a699",
   "metadata": {},
   "outputs": [],
   "source": [
    "#Crear una funcion que contenga dos parametros \n",
    "\n",
    "def obtener_fila_verificada(palabra_a_encontrar, palabra_ingresada):\n",
    "    #segundo paso es definit la cantidad de letras de la palabra a encontrar \n",
    "    cantidad_de_letras_de_palabras_a_encontrar=5\n",
    "\n",
    "    #tercer paso, crear una lista vacia para que guarde las letras verificadas\n",
    "    letras_verificadas=[]\n",
    "\n",
    "    #cuarto paso, se recorre cada posicion de las palabra\n",
    "    for posicion in range(cantidad_de_letras_de_palabras_a_encontrar):\n",
    "\n",
    "        # Quinto paso comparar las letras en la misma posicion\n",
    "        las_letras_son_iguales = palabra_a_encontrar[posicion] == palabra_ingreada[posicion]\n",
    "\n",
    "        #Sexto paso se verifica si la letra existe en la palabra \n",
    "        la_letra_existe_en_la_palabra=palabra_ingresada[posicion]in palabra_a_encontrar\n",
    "\n",
    "        if las_letras_son_iguales:\n",
    "            letras_verificadas.append(\"[\"+ palabra_ingreada[posicion]+\"]\")\n",
    "        elif la_letra_existe_en_la_palabra:\n",
    "            letras_verificadas.append(\"(\" + palabra_ingreada + \")\")\n",
    "        else:\n",
    "            letras_verificadas.append(palabra_ingresada[posicion])\n",
    "    return letras_verificadas"
   ]
  },
  {
   "cell_type": "code",
   "execution_count": 88,
   "id": "8f07c0b5",
   "metadata": {},
   "outputs": [
    {
     "ename": "IndexError",
     "evalue": "string index out of range",
     "output_type": "error",
     "traceback": [
      "\u001b[31m---------------------------------------------------------------------------\u001b[39m",
      "\u001b[31mIndexError\u001b[39m                                Traceback (most recent call last)",
      "\u001b[36mCell\u001b[39m\u001b[36m \u001b[39m\u001b[32mIn[88]\u001b[39m\u001b[32m, line 3\u001b[39m\n\u001b[32m      1\u001b[39m palabra_a_encontrar = \u001b[33m\"\u001b[39m\u001b[33mhuevo\u001b[39m\u001b[33m\"\u001b[39m\n\u001b[32m      2\u001b[39m palabra_ingresada = \u001b[38;5;28minput\u001b[39m(\u001b[33m\"\u001b[39m\u001b[33mIngrese una palabra de 5 letras \u001b[39m\u001b[33m\"\u001b[39m)\n\u001b[32m----> \u001b[39m\u001b[32m3\u001b[39m linea_verificada= \u001b[43mobtener_fila_verificada\u001b[49m\u001b[43m(\u001b[49m\u001b[43mpalabra_a_encontrar\u001b[49m\u001b[43m,\u001b[49m\u001b[43m \u001b[49m\u001b[43mpalabra_ingresada\u001b[49m\u001b[43m)\u001b[49m\n\u001b[32m      4\u001b[39m \u001b[38;5;28mprint\u001b[39m(linea_verificada)\n",
      "\u001b[36mCell\u001b[39m\u001b[36m \u001b[39m\u001b[32mIn[85]\u001b[39m\u001b[32m, line 14\u001b[39m, in \u001b[36mobtener_fila_verificada\u001b[39m\u001b[34m(palabra_a_encontrar, palabra_ingresada)\u001b[39m\n\u001b[32m     10\u001b[39m \u001b[38;5;66;03m#cuarto paso, se recorre cada posicion de las palabra\u001b[39;00m\n\u001b[32m     11\u001b[39m \u001b[38;5;28;01mfor\u001b[39;00m posicion \u001b[38;5;129;01min\u001b[39;00m \u001b[38;5;28mrange\u001b[39m(cantidad_de_letras_de_palabras_a_encontrar):\n\u001b[32m     12\u001b[39m \n\u001b[32m     13\u001b[39m     \u001b[38;5;66;03m# Quinto paso comparar las letras en la misma posicion\u001b[39;00m\n\u001b[32m---> \u001b[39m\u001b[32m14\u001b[39m     las_letras_son_iguales = palabra_a_encontrar[posicion] == \u001b[43mpalabra_ingreada\u001b[49m\u001b[43m[\u001b[49m\u001b[43mposicion\u001b[49m\u001b[43m]\u001b[49m\n\u001b[32m     16\u001b[39m     \u001b[38;5;66;03m#Sexto paso se verifica si la letra existe en la palabra \u001b[39;00m\n\u001b[32m     17\u001b[39m     la_letra_existe_en_la_palabra=palabra_ingresada[posicion]\u001b[38;5;129;01min\u001b[39;00m palabra_a_encontrar\n",
      "\u001b[31mIndexError\u001b[39m: string index out of range"
     ]
    }
   ],
   "source": [
    "palabra_a_encontrar = \"huevo\"\n",
    "palabra_ingresada = input(\"Ingrese una palabra de 5 letras \")\n",
    "linea_verificada= obtener_fila_verificada(palabra_a_encontrar, palabra_ingresada)\n",
    "print(linea_verificada)\n",
    "\n"
   ]
  },
  {
   "cell_type": "code",
   "execution_count": 92,
   "id": "7205b325",
   "metadata": {},
   "outputs": [
    {
     "data": {
      "text/plain": [
       "[['h', 'o', 'l', 'i', 's'],\n",
       " ['h', 'e', 'l', 'l', 'o'],\n",
       " ['h', 'a', 'l', 'l', 'o']]"
      ]
     },
     "execution_count": 92,
     "metadata": {},
     "output_type": "execute_result"
    }
   ],
   "source": [
    "#Challenge 6 🤺 - 25m\n",
    "#Dada la lista de ejemplo: \n",
    "#lista = [['h', 'o', 'l', 'i', 's'], ['h', 'e', 'l', 'l', 'o'], ['h', 'a', 'l', 'l', 'o']]\n",
    "#Crear una función que imprima una grilla (lista de listas), una línea por cada lista dentro de la lista principal.\n",
    "#Ejemplo del resultado esperado:\n",
    "#['h', 'o', 'l', 'i', 's']\n",
    "#['h', 'e', 'l', 'l', 'o']\n",
    "#['h', 'a', 'l', 'l', 'o']\n",
    "\n",
    "lista_de_letras= ['h', 'o', 'l', 'i', 's'], ['h', 'e', 'l', 'l', 'o'], ['h', 'a', 'l', 'l', 'o']\n",
    "list(lista_de_letras)\n",
    "\n"
   ]
  },
  {
   "cell_type": "code",
   "execution_count": 1,
   "id": "fb525c58",
   "metadata": {},
   "outputs": [
    {
     "name": "stdout",
     "output_type": "stream",
     "text": [
      "Te quedan 3 intentos\n",
      "Te quedan 2 intentos\n",
      "Te quedan 1 intentos\n",
      "Game Over\n"
     ]
    }
   ],
   "source": [
    "intentos = 3\n",
    "while intentos >0:\n",
    "    print (f\"Te quedan {intentos} intentos\")\n",
    "    palabra=input(\"Ingrese la palabra\")\n",
    "    intentos = intentos - 1\n",
    "print(\"Game Over\")"
   ]
  },
  {
   "cell_type": "markdown",
   "id": "249e3b6c",
   "metadata": {},
   "source": [
    "# Iniciar el juego \n",
    "Elegir palabra \n",
    "Definir la cantidad de letras \n",
    "Definir cantidad de intentos \n",
    "Crear la grilla vacia \n",
    "Mostrar mensaje de welcome \n",
    "Ingresar la palabra y comparar con la palabra secreta \n",
    "Palabra secreta = Penguin\n",
    "Tiene que comparar con la ingresada \n"
   ]
  },
  {
   "cell_type": "markdown",
   "id": "eeb1fc66",
   "metadata": {},
   "source": []
  }
 ],
 "metadata": {
  "kernelspec": {
   "display_name": ".venv",
   "language": "python",
   "name": "python3"
  },
  "language_info": {
   "codemirror_mode": {
    "name": "ipython",
    "version": 3
   },
   "file_extension": ".py",
   "mimetype": "text/x-python",
   "name": "python",
   "nbconvert_exporter": "python",
   "pygments_lexer": "ipython3",
   "version": "3.12.3"
  }
 },
 "nbformat": 4,
 "nbformat_minor": 5
}
